{
 "cells": [
  {
   "cell_type": "markdown",
   "metadata": {},
   "source": [
    "# 10進数で回分 -  『プログラマ脳を鍛える数学パズル』から始めるプログラミングハンズオン 予習編 by ksnt"
   ]
  },
  {
   "cell_type": "markdown",
   "metadata": {},
   "source": [
    "Q. 10進数、2進数、8進数のいずれで表現しても回文数となる数のうち、10進数の10以上で最小の値を求めてください。"
   ]
  },
  {
   "cell_type": "markdown",
   "metadata": {},
   "source": [
    "### テストファースト"
   ]
  },
  {
   "cell_type": "code",
   "execution_count": 3,
   "metadata": {},
   "outputs": [
    {
     "name": "stderr",
     "output_type": "stream",
     "text": [
      "\n",
      "----------------------------------------------------------------------\n",
      "Ran 0 tests in 0.000s\n",
      "\n",
      "OK\n"
     ]
    },
    {
     "data": {
      "text/plain": [
       "<unittest.main.TestProgram at 0x7f70981436a0>"
      ]
     },
     "execution_count": 3,
     "metadata": {},
     "output_type": "execute_result"
    }
   ],
   "source": [
    "import unittest\n",
    "class PalindromeTest(unittest.TestCase):\n",
    "    None\n",
    "\n",
    "unittest.main(argv=[''],exit=False)"
   ]
  },
  {
   "cell_type": "markdown",
   "metadata": {},
   "source": [
    "### アサートファースト"
   ]
  },
  {
   "cell_type": "code",
   "execution_count": 6,
   "metadata": {},
   "outputs": [
    {
     "name": "stderr",
     "output_type": "stream",
     "text": [
      "E\n",
      "======================================================================\n",
      "ERROR: test_if_decimal_11_is_11 (__main__.PalindromeTest)\n",
      "----------------------------------------------------------------------\n",
      "Traceback (most recent call last):\n",
      "  File \"<ipython-input-6-753f1d975020>\", line 4, in test_if_decimal_11_is_11\n",
      "    self.assertEqual(palindrome(11),True)\n",
      "NameError: name 'palindrome' is not defined\n",
      "\n",
      "----------------------------------------------------------------------\n",
      "Ran 1 test in 0.001s\n",
      "\n",
      "FAILED (errors=1)\n"
     ]
    },
    {
     "data": {
      "text/plain": [
       "<unittest.main.TestProgram at 0x7f7098159a58>"
      ]
     },
     "execution_count": 6,
     "metadata": {},
     "output_type": "execute_result"
    }
   ],
   "source": [
    "import unittest\n",
    "class PalindromeTest(unittest.TestCase):\n",
    "    def test_if_decimal_11_is_11(self):\n",
    "        self.assertEqual(palindrome(11),True)\n",
    "\n",
    "unittest.main(argv=[''],exit=False)"
   ]
  },
  {
   "cell_type": "markdown",
   "metadata": {},
   "source": [
    "palindromeという関数を作っていないので当然エラー"
   ]
  },
  {
   "cell_type": "markdown",
   "metadata": {},
   "source": [
    "### 仮実装"
   ]
  },
  {
   "cell_type": "code",
   "execution_count": 7,
   "metadata": {},
   "outputs": [
    {
     "name": "stderr",
     "output_type": "stream",
     "text": [
      ".\n",
      "----------------------------------------------------------------------\n",
      "Ran 1 test in 0.001s\n",
      "\n",
      "OK\n"
     ]
    },
    {
     "data": {
      "text/plain": [
       "<unittest.main.TestProgram at 0x7f709815ef98>"
      ]
     },
     "execution_count": 7,
     "metadata": {},
     "output_type": "execute_result"
    }
   ],
   "source": [
    "import unittest\n",
    "\n",
    "def palindrome(n):\n",
    "    return True\n",
    "\n",
    "class PalindromeTest(unittest.TestCase):\n",
    "    def test_if_decimal_11_is_11(self):\n",
    "        self.assertEqual(palindrome(11),True)\n",
    "        \n",
    "unittest.main(argv=[''], exit=False)"
   ]
  },
  {
   "cell_type": "markdown",
   "metadata": {},
   "source": [
    "関数の中身はないけれどテストが通るようにはなった。"
   ]
  },
  {
   "cell_type": "markdown",
   "metadata": {},
   "source": [
    "### 三角測量"
   ]
  },
  {
   "cell_type": "markdown",
   "metadata": {},
   "source": [
    "引数に別の値を渡す"
   ]
  },
  {
   "cell_type": "code",
   "execution_count": 8,
   "metadata": {},
   "outputs": [
    {
     "name": "stderr",
     "output_type": "stream",
     "text": [
      "F\n",
      "======================================================================\n",
      "FAIL: test_if_decimal_11_is_11 (__main__.PalindromeTest)\n",
      "----------------------------------------------------------------------\n",
      "Traceback (most recent call last):\n",
      "  File \"<ipython-input-8-6002c71f4e8f>\", line 9, in test_if_decimal_11_is_11\n",
      "    self.assertEqual(palindrome(10),False)\n",
      "AssertionError: True != False\n",
      "\n",
      "----------------------------------------------------------------------\n",
      "Ran 1 test in 0.001s\n",
      "\n",
      "FAILED (failures=1)\n"
     ]
    },
    {
     "data": {
      "text/plain": [
       "<unittest.main.TestProgram at 0x7f70980ecfd0>"
      ]
     },
     "execution_count": 8,
     "metadata": {},
     "output_type": "execute_result"
    }
   ],
   "source": [
    "import unittest\n",
    "\n",
    "def palindrome(n):\n",
    "    return True\n",
    "\n",
    "class PalindromeTest(unittest.TestCase):\n",
    "    def test_if_decimal_11_is_11(self):\n",
    "        self.assertEqual(palindrome(11),True)\n",
    "        self.assertEqual(palindrome(10),False)\n",
    "        \n",
    "unittest.main(argv=[''], exit=False)"
   ]
  },
  {
   "cell_type": "markdown",
   "metadata": {},
   "source": [
    "引数が10のときはFalseにならなければいけないのにTrueになってしまっているのでエラー"
   ]
  },
  {
   "cell_type": "markdown",
   "metadata": {},
   "source": [
    "### 明白な実装"
   ]
  },
  {
   "cell_type": "code",
   "execution_count": 9,
   "metadata": {},
   "outputs": [
    {
     "name": "stderr",
     "output_type": "stream",
     "text": [
      ".\n",
      "----------------------------------------------------------------------\n",
      "Ran 1 test in 0.001s\n",
      "\n",
      "OK\n"
     ]
    },
    {
     "data": {
      "text/plain": [
       "<unittest.main.TestProgram at 0x7f709815ec18>"
      ]
     },
     "execution_count": 9,
     "metadata": {},
     "output_type": "execute_result"
    }
   ],
   "source": [
    "import unittest\n",
    "\n",
    "def palindrome(n):\n",
    "    result = str(n)\n",
    "    return result == result[::-1]\n",
    "\n",
    "class PalindromeTest(unittest.TestCase):\n",
    "    def test_if_decimal_11_is_11(self):\n",
    "        self.assertEqual(palindrome(11),True)\n",
    "        self.assertEqual(palindrome(10),False)\n",
    "        \n",
    "unittest.main(argv=[''], exit=False)"
   ]
  },
  {
   "cell_type": "markdown",
   "metadata": {},
   "source": [
    "10進数に関してはこれでおｋ"
   ]
  },
  {
   "cell_type": "code",
   "execution_count": 11,
   "metadata": {},
   "outputs": [
    {
     "name": "stderr",
     "output_type": "stream",
     "text": [
      "...\n",
      "----------------------------------------------------------------------\n",
      "Ran 3 tests in 0.005s\n",
      "\n",
      "OK\n"
     ]
    },
    {
     "data": {
      "text/plain": [
       "<unittest.main.TestProgram at 0x7f7090805c50>"
      ]
     },
     "execution_count": 11,
     "metadata": {},
     "output_type": "execute_result"
    }
   ],
   "source": [
    "import unittest\n",
    "import pdb\n",
    "\n",
    "def palindrome(n):\n",
    "    result = str(n)\n",
    "    return result == result[::-1]\n",
    "\n",
    "class PalindromeTest(unittest.TestCase):\n",
    "    def test_if_decimal_11_is_11(self):\n",
    "        self.assertEqual(palindrome(11),True)\n",
    "        self.assertEqual(palindrome(10),False)\n",
    "    \n",
    "    def test_binary_representation(self):\n",
    "        self.assertEqual(format(9,'b'), '1001')\n",
    "    \n",
    "    def test_octal_representation(self):\n",
    "        self.assertEqual(format(9,'o'), '11')\n",
    "\n",
    "unittest.main(argv=[''],exit=False)"
   ]
  },
  {
   "cell_type": "markdown",
   "metadata": {},
   "source": [
    "2進数表現と8進数表現のテストを書いた。但し、palindrome関数として書いたわけではない。"
   ]
  },
  {
   "cell_type": "code",
   "execution_count": 13,
   "metadata": {},
   "outputs": [
    {
     "name": "stderr",
     "output_type": "stream",
     "text": [
      "...."
     ]
    },
    {
     "name": "stdout",
     "output_type": "stream",
     "text": [
      "最小の値は585\n"
     ]
    },
    {
     "name": "stderr",
     "output_type": "stream",
     "text": [
      "\n",
      "----------------------------------------------------------------------\n",
      "Ran 4 tests in 0.007s\n",
      "\n",
      "OK\n"
     ]
    },
    {
     "data": {
      "text/plain": [
       "<unittest.main.TestProgram at 0x7f70907f08d0>"
      ]
     },
     "execution_count": 13,
     "metadata": {},
     "output_type": "execute_result"
    }
   ],
   "source": [
    "import unittest\n",
    "import pdb\n",
    "\n",
    "def is_palindrome(n):\n",
    "    decimal = str(n)\n",
    "    binary  = format(n,'b')\n",
    "    octat   = format(n,'o')\n",
    "    \n",
    "    return decimal == decimal[::-1] and binary == binary[::-1] and octat == octat[::-1]\n",
    "\n",
    "class PalindromeTest(unittest.TestCase):\n",
    "    def test_if_decimal_9_is_True(self):\n",
    "        self.assertEqual(is_palindrome(9),True)\n",
    "    \n",
    "    def test_decimal_minimum_value_over_10(self):\n",
    "        n = 10\n",
    "        while True:\n",
    "            result = is_palindrome(n)\n",
    "            if result == True:\n",
    "                break\n",
    "            else:\n",
    "                n = n + 1\n",
    "        self.assertEqual(n,585)\n",
    "        print(f\"最小の値は{n}\")\n",
    "    \n",
    "    def test_binary_representation(self):\n",
    "        self.assertEqual(format(9,'b'), '1001')\n",
    "    \n",
    "    def test_octal_representation(self):\n",
    "        self.assertEqual(format(9,'o'), '11')\n",
    "\n",
    "unittest.main(argv=[''],exit=False)"
   ]
  },
  {
   "cell_type": "markdown",
   "metadata": {},
   "source": [
    "実装できたっぽい。"
   ]
  },
  {
   "cell_type": "code",
   "execution_count": 14,
   "metadata": {},
   "outputs": [
    {
     "name": "stderr",
     "output_type": "stream",
     "text": [
      "...."
     ]
    },
    {
     "name": "stdout",
     "output_type": "stream",
     "text": [
      "Trying:\n",
      "    is_palindrome(9)\n",
      "Expecting:\n",
      "    True\n",
      "ok\n",
      "8 items had no tests:\n",
      "    __main__\n",
      "    __main__.PalindromeTest\n",
      "    __main__.PalindromeTest.test_binary_representation\n",
      "    __main__.PalindromeTest.test_decimal_minimum_value_over_10\n",
      "    __main__.PalindromeTest.test_if_decimal_9_is_True\n",
      "    __main__.PalindromeTest.test_octal_representation\n",
      "    __main__.palindrome\n",
      "    __main__.palindromeTest\n",
      "1 items passed all tests:\n",
      "   1 tests in __main__.is_palindrome\n",
      "1 tests in 9 items.\n",
      "1 passed and 0 failed.\n",
      "Test passed.\n",
      "最小の値は585\n"
     ]
    },
    {
     "name": "stderr",
     "output_type": "stream",
     "text": [
      "\n",
      "----------------------------------------------------------------------\n",
      "Ran 4 tests in 0.006s\n",
      "\n",
      "OK\n"
     ]
    },
    {
     "data": {
      "text/plain": [
       "<unittest.main.TestProgram at 0x7f7090489588>"
      ]
     },
     "execution_count": 14,
     "metadata": {},
     "output_type": "execute_result"
    }
   ],
   "source": [
    "import unittest\n",
    "import doctest\n",
    "import pdb\n",
    "\n",
    "def is_palindrome(n):\n",
    "    \"\"\"10進数,2進数,8進数いずれで表現しても回分となる場合はTrueを返す\n",
    "    \n",
    "    >>> is_palindrome(9)\n",
    "    True\n",
    "    \"\"\"\n",
    "    decimal = str(n)\n",
    "    binary  = format(n,'b')\n",
    "    octat   = format(n,'o')\n",
    "    \n",
    "    return decimal == decimal[::-1] and binary == binary[::-1] and octat == octat[::-1]\n",
    "\n",
    "doctest.testmod(verbose=True)\n",
    "\n",
    "class PalindromeTest(unittest.TestCase):\n",
    "    def test_if_decimal_9_is_True(self):\n",
    "        self.assertEqual(is_palindrome(9),True)\n",
    "    \n",
    "    def test_decimal_minimum_value_over_10(self):\n",
    "        n = 10\n",
    "        while True:\n",
    "            result = is_palindrome(n)\n",
    "            if result == True:\n",
    "                break\n",
    "            else:\n",
    "                n = n + 1\n",
    "        self.assertEqual(n,585)\n",
    "        print(f\"最小の値は{n}\")\n",
    "    \n",
    "    def test_binary_representation(self):\n",
    "        self.assertEqual(format(9,'b'), '1001')\n",
    "    \n",
    "    def test_octal_representation(self):\n",
    "        self.assertEqual(format(9,'o'), '11')\n",
    "\n",
    "unittest.main(argv=[''],exit=False)\n",
    "    "
   ]
  },
  {
   "cell_type": "markdown",
   "metadata": {},
   "source": [
    "doctestでもテストが出来た。"
   ]
  },
  {
   "cell_type": "markdown",
   "metadata": {},
   "source": [
    "### リファクタリング"
   ]
  },
  {
   "cell_type": "code",
   "execution_count": 15,
   "metadata": {},
   "outputs": [
    {
     "name": "stdout",
     "output_type": "stream",
     "text": [
      "Trying:\n",
      "    is_palindrome(9)\n",
      "Expecting:\n",
      "    True\n",
      "ok\n",
      "8 items had no tests:\n",
      "    __main__\n",
      "    __main__.PalindromeTest\n",
      "    __main__.PalindromeTest.test_binary_representation\n",
      "    __main__.PalindromeTest.test_decimal_minimum_value_over_10\n",
      "    __main__.PalindromeTest.test_if_decimal_9_is_True\n",
      "    __main__.PalindromeTest.test_octal_representation\n",
      "    __main__.palindrome\n",
      "    __main__.palindromeTest\n",
      "1 items passed all tests:\n",
      "   1 tests in __main__.is_palindrome\n",
      "1 tests in 9 items.\n",
      "1 passed and 0 failed.\n",
      "Test passed.\n"
     ]
    },
    {
     "data": {
      "text/plain": [
       "TestResults(failed=0, attempted=1)"
      ]
     },
     "execution_count": 15,
     "metadata": {},
     "output_type": "execute_result"
    }
   ],
   "source": [
    "import doctest\n",
    "import pdb\n",
    "\n",
    "def is_palindrome(n):\n",
    "    \"\"\"10進数,2進数,8進数いずれで表現しても回分となる場合はTrueを返す\n",
    "    \n",
    "    >>> is_palindrome(9)\n",
    "    True\n",
    "    \"\"\"\n",
    "    is_palindrome_decimal = str(n) == str(n)[::-1]\n",
    "    is_palindrome_binary  = format(n,'b') == format(n,'b')[::-1]\n",
    "    is_palindrome_octat   = format(n,'o') == format(n,'o')[::-1]\n",
    "    \n",
    "    return is_palindrome_decimal and is_palindrome_binary and is_palindrome_octat\n",
    "\n",
    "doctest.testmod(verbose=True)"
   ]
  },
  {
   "cell_type": "markdown",
   "metadata": {},
   "source": [
    "## 個人的な感想"
   ]
  },
  {
   "cell_type": "markdown",
   "metadata": {},
   "source": [
    "テスト関数名は日本語で書いた方がいいんじゃないかという議論を聴いたことがあってそのときはピンとこなかったが、たしかにテスト関数名は日本語で書いた方が分かりやすくて良い気がしてきた。"
   ]
  }
 ],
 "metadata": {
  "kernelspec": {
   "display_name": "Python 3",
   "language": "python",
   "name": "python3"
  },
  "language_info": {
   "codemirror_mode": {
    "name": "ipython",
    "version": 3
   },
   "file_extension": ".py",
   "mimetype": "text/x-python",
   "name": "python",
   "nbconvert_exporter": "python",
   "pygments_lexer": "ipython3",
   "version": "3.6.8"
  }
 },
 "nbformat": 4,
 "nbformat_minor": 2
}
